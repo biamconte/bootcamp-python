{
  "nbformat": 4,
  "nbformat_minor": 0,
  "metadata": {
    "colab": {
      "provenance": [],
      "authorship_tag": "ABX9TyNsw1xXzsDbG4vC42aY7lCK",
      "include_colab_link": true
    },
    "kernelspec": {
      "name": "python3",
      "display_name": "Python 3"
    },
    "language_info": {
      "name": "python"
    }
  },
  "cells": [
    {
      "cell_type": "markdown",
      "metadata": {
        "id": "view-in-github",
        "colab_type": "text"
      },
      "source": [
        "<a href=\"https://colab.research.google.com/github/biamconte/bootcamp-python/blob/main/An%C3%A1lise-de-dados.ipynb\" target=\"_parent\"><img src=\"https://colab.research.google.com/assets/colab-badge.svg\" alt=\"Open In Colab\"/></a>"
      ]
    },
    {
      "cell_type": "code",
      "execution_count": 2,
      "metadata": {
        "id": "9S517oo0oI44"
      },
      "outputs": [],
      "source": [
        "import pandas as pd\n",
        "import matplotlib.pyplot as plt\n"
      ]
    },
    {
      "cell_type": "code",
      "source": [
        "from google.colab import files\n",
        "arq=files.upload()"
      ],
      "metadata": {
        "colab": {
          "base_uri": "https://localhost:8080/",
          "height": 73
        },
        "id": "WPDIthBDoheq",
        "outputId": "49c8750a-a91e-4893-9887-f5c8e597235d"
      },
      "execution_count": 3,
      "outputs": [
        {
          "output_type": "display_data",
          "data": {
            "text/plain": [
              "<IPython.core.display.HTML object>"
            ],
            "text/html": [
              "\n",
              "     <input type=\"file\" id=\"files-ada23a39-2d78-461f-aed2-218c908408f5\" name=\"files[]\" multiple disabled\n",
              "        style=\"border:none\" />\n",
              "     <output id=\"result-ada23a39-2d78-461f-aed2-218c908408f5\">\n",
              "      Upload widget is only available when the cell has been executed in the\n",
              "      current browser session. Please rerun this cell to enable.\n",
              "      </output>\n",
              "      <script>// Copyright 2017 Google LLC\n",
              "//\n",
              "// Licensed under the Apache License, Version 2.0 (the \"License\");\n",
              "// you may not use this file except in compliance with the License.\n",
              "// You may obtain a copy of the License at\n",
              "//\n",
              "//      http://www.apache.org/licenses/LICENSE-2.0\n",
              "//\n",
              "// Unless required by applicable law or agreed to in writing, software\n",
              "// distributed under the License is distributed on an \"AS IS\" BASIS,\n",
              "// WITHOUT WARRANTIES OR CONDITIONS OF ANY KIND, either express or implied.\n",
              "// See the License for the specific language governing permissions and\n",
              "// limitations under the License.\n",
              "\n",
              "/**\n",
              " * @fileoverview Helpers for google.colab Python module.\n",
              " */\n",
              "(function(scope) {\n",
              "function span(text, styleAttributes = {}) {\n",
              "  const element = document.createElement('span');\n",
              "  element.textContent = text;\n",
              "  for (const key of Object.keys(styleAttributes)) {\n",
              "    element.style[key] = styleAttributes[key];\n",
              "  }\n",
              "  return element;\n",
              "}\n",
              "\n",
              "// Max number of bytes which will be uploaded at a time.\n",
              "const MAX_PAYLOAD_SIZE = 100 * 1024;\n",
              "\n",
              "function _uploadFiles(inputId, outputId) {\n",
              "  const steps = uploadFilesStep(inputId, outputId);\n",
              "  const outputElement = document.getElementById(outputId);\n",
              "  // Cache steps on the outputElement to make it available for the next call\n",
              "  // to uploadFilesContinue from Python.\n",
              "  outputElement.steps = steps;\n",
              "\n",
              "  return _uploadFilesContinue(outputId);\n",
              "}\n",
              "\n",
              "// This is roughly an async generator (not supported in the browser yet),\n",
              "// where there are multiple asynchronous steps and the Python side is going\n",
              "// to poll for completion of each step.\n",
              "// This uses a Promise to block the python side on completion of each step,\n",
              "// then passes the result of the previous step as the input to the next step.\n",
              "function _uploadFilesContinue(outputId) {\n",
              "  const outputElement = document.getElementById(outputId);\n",
              "  const steps = outputElement.steps;\n",
              "\n",
              "  const next = steps.next(outputElement.lastPromiseValue);\n",
              "  return Promise.resolve(next.value.promise).then((value) => {\n",
              "    // Cache the last promise value to make it available to the next\n",
              "    // step of the generator.\n",
              "    outputElement.lastPromiseValue = value;\n",
              "    return next.value.response;\n",
              "  });\n",
              "}\n",
              "\n",
              "/**\n",
              " * Generator function which is called between each async step of the upload\n",
              " * process.\n",
              " * @param {string} inputId Element ID of the input file picker element.\n",
              " * @param {string} outputId Element ID of the output display.\n",
              " * @return {!Iterable<!Object>} Iterable of next steps.\n",
              " */\n",
              "function* uploadFilesStep(inputId, outputId) {\n",
              "  const inputElement = document.getElementById(inputId);\n",
              "  inputElement.disabled = false;\n",
              "\n",
              "  const outputElement = document.getElementById(outputId);\n",
              "  outputElement.innerHTML = '';\n",
              "\n",
              "  const pickedPromise = new Promise((resolve) => {\n",
              "    inputElement.addEventListener('change', (e) => {\n",
              "      resolve(e.target.files);\n",
              "    });\n",
              "  });\n",
              "\n",
              "  const cancel = document.createElement('button');\n",
              "  inputElement.parentElement.appendChild(cancel);\n",
              "  cancel.textContent = 'Cancel upload';\n",
              "  const cancelPromise = new Promise((resolve) => {\n",
              "    cancel.onclick = () => {\n",
              "      resolve(null);\n",
              "    };\n",
              "  });\n",
              "\n",
              "  // Wait for the user to pick the files.\n",
              "  const files = yield {\n",
              "    promise: Promise.race([pickedPromise, cancelPromise]),\n",
              "    response: {\n",
              "      action: 'starting',\n",
              "    }\n",
              "  };\n",
              "\n",
              "  cancel.remove();\n",
              "\n",
              "  // Disable the input element since further picks are not allowed.\n",
              "  inputElement.disabled = true;\n",
              "\n",
              "  if (!files) {\n",
              "    return {\n",
              "      response: {\n",
              "        action: 'complete',\n",
              "      }\n",
              "    };\n",
              "  }\n",
              "\n",
              "  for (const file of files) {\n",
              "    const li = document.createElement('li');\n",
              "    li.append(span(file.name, {fontWeight: 'bold'}));\n",
              "    li.append(span(\n",
              "        `(${file.type || 'n/a'}) - ${file.size} bytes, ` +\n",
              "        `last modified: ${\n",
              "            file.lastModifiedDate ? file.lastModifiedDate.toLocaleDateString() :\n",
              "                                    'n/a'} - `));\n",
              "    const percent = span('0% done');\n",
              "    li.appendChild(percent);\n",
              "\n",
              "    outputElement.appendChild(li);\n",
              "\n",
              "    const fileDataPromise = new Promise((resolve) => {\n",
              "      const reader = new FileReader();\n",
              "      reader.onload = (e) => {\n",
              "        resolve(e.target.result);\n",
              "      };\n",
              "      reader.readAsArrayBuffer(file);\n",
              "    });\n",
              "    // Wait for the data to be ready.\n",
              "    let fileData = yield {\n",
              "      promise: fileDataPromise,\n",
              "      response: {\n",
              "        action: 'continue',\n",
              "      }\n",
              "    };\n",
              "\n",
              "    // Use a chunked sending to avoid message size limits. See b/62115660.\n",
              "    let position = 0;\n",
              "    do {\n",
              "      const length = Math.min(fileData.byteLength - position, MAX_PAYLOAD_SIZE);\n",
              "      const chunk = new Uint8Array(fileData, position, length);\n",
              "      position += length;\n",
              "\n",
              "      const base64 = btoa(String.fromCharCode.apply(null, chunk));\n",
              "      yield {\n",
              "        response: {\n",
              "          action: 'append',\n",
              "          file: file.name,\n",
              "          data: base64,\n",
              "        },\n",
              "      };\n",
              "\n",
              "      let percentDone = fileData.byteLength === 0 ?\n",
              "          100 :\n",
              "          Math.round((position / fileData.byteLength) * 100);\n",
              "      percent.textContent = `${percentDone}% done`;\n",
              "\n",
              "    } while (position < fileData.byteLength);\n",
              "  }\n",
              "\n",
              "  // All done.\n",
              "  yield {\n",
              "    response: {\n",
              "      action: 'complete',\n",
              "    }\n",
              "  };\n",
              "}\n",
              "\n",
              "scope.google = scope.google || {};\n",
              "scope.google.colab = scope.google.colab || {};\n",
              "scope.google.colab._files = {\n",
              "  _uploadFiles,\n",
              "  _uploadFilesContinue,\n",
              "};\n",
              "})(self);\n",
              "</script> "
            ]
          },
          "metadata": {}
        },
        {
          "output_type": "stream",
          "name": "stdout",
          "text": [
            "Saving Accidental_Drug_Related_Deaths_2012-2021.csv to Accidental_Drug_Related_Deaths_2012-2021.csv\n"
          ]
        }
      ]
    },
    {
      "cell_type": "code",
      "source": [
        "df=pd.read_csv('Accidental_Drug_Related_Deaths_2012-2021.csv')"
      ],
      "metadata": {
        "id": "HSSLXCOvooTR"
      },
      "execution_count": 5,
      "outputs": []
    },
    {
      "cell_type": "code",
      "source": [
        "df.head(\n",
        "    \n",
        ")"
      ],
      "metadata": {
        "colab": {
          "base_uri": "https://localhost:8080/",
          "height": 490
        },
        "id": "qNl6PWyUo1sa",
        "outputId": "b365dec1-7f80-45c0-b172-badba2fe78af"
      },
      "execution_count": 6,
      "outputs": [
        {
          "output_type": "execute_result",
          "data": {
            "text/plain": [
              "         Date      Date Type   Age     Sex   Race Ethnicity Residence City  \\\n",
              "0  05/29/2012  Date of death  37.0    Male  Black       NaN       STAMFORD   \n",
              "1  06/27/2012  Date of death  37.0    Male  White       NaN        NORWICH   \n",
              "2  03/24/2014  Date of death  28.0    Male  White       NaN         HEBRON   \n",
              "3  12/31/2014  Date of death  26.0  Female  White       NaN         BALTIC   \n",
              "4  01/16/2016  Date of death  41.0    Male  White       NaN        SHELTON   \n",
              "\n",
              "  Residence County Residence State Injury City  ... Xylazine Gabapentin  \\\n",
              "0        FAIRFIELD             NaN    STAMFORD  ...      NaN        NaN   \n",
              "1       NEW LONDON             NaN     NORWICH  ...      NaN        NaN   \n",
              "2              NaN             NaN      HEBRON  ...      NaN        NaN   \n",
              "3              NaN             NaN         NaN  ...      NaN        NaN   \n",
              "4        FAIRFIELD              CT     SHELTON  ...      NaN        NaN   \n",
              "\n",
              "  Opiate NOS Heroin/Morph/Codeine Other Opioid Any Opioid Other  \\\n",
              "0        NaN                  NaN          NaN        NaN   NaN   \n",
              "1        NaN                  NaN          NaN        NaN   NaN   \n",
              "2        NaN                  NaN          NaN        NaN   NaN   \n",
              "3        NaN                  NaN          NaN        NaN   NaN   \n",
              "4        NaN                  NaN          NaN          Y   NaN   \n",
              "\n",
              "                        ResidenceCityGeo  \\\n",
              "0  STAMFORD, CT\\n(41.051924, -73.539475)   \n",
              "1   NORWICH, CT\\n(41.524304, -72.075821)   \n",
              "2    HEBRON, CT\\n(41.658069, -72.366324)   \n",
              "3    BALTIC, CT\\n(41.617221, -72.085031)   \n",
              "4   SHELTON, CT\\n(41.316843, -73.092968)   \n",
              "\n",
              "                           InjuryCityGeo  \\\n",
              "0  STAMFORD, CT\\n(41.051924, -73.539475)   \n",
              "1   NORWICH, CT\\n(41.524304, -72.075821)   \n",
              "2    HEBRON, CT\\n(41.658069, -72.366324)   \n",
              "3            CT\\n(41.575155, -72.738288)   \n",
              "4   SHELTON, CT\\n(41.316843, -73.092968)   \n",
              "\n",
              "                               DeathCityGeo  \n",
              "0               CT\\n(41.575155, -72.738288)  \n",
              "1      Norwich, CT\\n(41.524304, -72.075821)  \n",
              "2  Marlborough, CT\\n(41.632043, -72.461309)  \n",
              "3       Baltic, CT\\n(41.617221, -72.085031)  \n",
              "4   Bridgeport, CT\\n(41.179195, -73.189476)  \n",
              "\n",
              "[5 rows x 48 columns]"
            ],
            "text/html": [
              "\n",
              "  <div id=\"df-668c9887-63ce-4795-a795-c45b98f7e467\">\n",
              "    <div class=\"colab-df-container\">\n",
              "      <div>\n",
              "<style scoped>\n",
              "    .dataframe tbody tr th:only-of-type {\n",
              "        vertical-align: middle;\n",
              "    }\n",
              "\n",
              "    .dataframe tbody tr th {\n",
              "        vertical-align: top;\n",
              "    }\n",
              "\n",
              "    .dataframe thead th {\n",
              "        text-align: right;\n",
              "    }\n",
              "</style>\n",
              "<table border=\"1\" class=\"dataframe\">\n",
              "  <thead>\n",
              "    <tr style=\"text-align: right;\">\n",
              "      <th></th>\n",
              "      <th>Date</th>\n",
              "      <th>Date Type</th>\n",
              "      <th>Age</th>\n",
              "      <th>Sex</th>\n",
              "      <th>Race</th>\n",
              "      <th>Ethnicity</th>\n",
              "      <th>Residence City</th>\n",
              "      <th>Residence County</th>\n",
              "      <th>Residence State</th>\n",
              "      <th>Injury City</th>\n",
              "      <th>...</th>\n",
              "      <th>Xylazine</th>\n",
              "      <th>Gabapentin</th>\n",
              "      <th>Opiate NOS</th>\n",
              "      <th>Heroin/Morph/Codeine</th>\n",
              "      <th>Other Opioid</th>\n",
              "      <th>Any Opioid</th>\n",
              "      <th>Other</th>\n",
              "      <th>ResidenceCityGeo</th>\n",
              "      <th>InjuryCityGeo</th>\n",
              "      <th>DeathCityGeo</th>\n",
              "    </tr>\n",
              "  </thead>\n",
              "  <tbody>\n",
              "    <tr>\n",
              "      <th>0</th>\n",
              "      <td>05/29/2012</td>\n",
              "      <td>Date of death</td>\n",
              "      <td>37.0</td>\n",
              "      <td>Male</td>\n",
              "      <td>Black</td>\n",
              "      <td>NaN</td>\n",
              "      <td>STAMFORD</td>\n",
              "      <td>FAIRFIELD</td>\n",
              "      <td>NaN</td>\n",
              "      <td>STAMFORD</td>\n",
              "      <td>...</td>\n",
              "      <td>NaN</td>\n",
              "      <td>NaN</td>\n",
              "      <td>NaN</td>\n",
              "      <td>NaN</td>\n",
              "      <td>NaN</td>\n",
              "      <td>NaN</td>\n",
              "      <td>NaN</td>\n",
              "      <td>STAMFORD, CT\\n(41.051924, -73.539475)</td>\n",
              "      <td>STAMFORD, CT\\n(41.051924, -73.539475)</td>\n",
              "      <td>CT\\n(41.575155, -72.738288)</td>\n",
              "    </tr>\n",
              "    <tr>\n",
              "      <th>1</th>\n",
              "      <td>06/27/2012</td>\n",
              "      <td>Date of death</td>\n",
              "      <td>37.0</td>\n",
              "      <td>Male</td>\n",
              "      <td>White</td>\n",
              "      <td>NaN</td>\n",
              "      <td>NORWICH</td>\n",
              "      <td>NEW LONDON</td>\n",
              "      <td>NaN</td>\n",
              "      <td>NORWICH</td>\n",
              "      <td>...</td>\n",
              "      <td>NaN</td>\n",
              "      <td>NaN</td>\n",
              "      <td>NaN</td>\n",
              "      <td>NaN</td>\n",
              "      <td>NaN</td>\n",
              "      <td>NaN</td>\n",
              "      <td>NaN</td>\n",
              "      <td>NORWICH, CT\\n(41.524304, -72.075821)</td>\n",
              "      <td>NORWICH, CT\\n(41.524304, -72.075821)</td>\n",
              "      <td>Norwich, CT\\n(41.524304, -72.075821)</td>\n",
              "    </tr>\n",
              "    <tr>\n",
              "      <th>2</th>\n",
              "      <td>03/24/2014</td>\n",
              "      <td>Date of death</td>\n",
              "      <td>28.0</td>\n",
              "      <td>Male</td>\n",
              "      <td>White</td>\n",
              "      <td>NaN</td>\n",
              "      <td>HEBRON</td>\n",
              "      <td>NaN</td>\n",
              "      <td>NaN</td>\n",
              "      <td>HEBRON</td>\n",
              "      <td>...</td>\n",
              "      <td>NaN</td>\n",
              "      <td>NaN</td>\n",
              "      <td>NaN</td>\n",
              "      <td>NaN</td>\n",
              "      <td>NaN</td>\n",
              "      <td>NaN</td>\n",
              "      <td>NaN</td>\n",
              "      <td>HEBRON, CT\\n(41.658069, -72.366324)</td>\n",
              "      <td>HEBRON, CT\\n(41.658069, -72.366324)</td>\n",
              "      <td>Marlborough, CT\\n(41.632043, -72.461309)</td>\n",
              "    </tr>\n",
              "    <tr>\n",
              "      <th>3</th>\n",
              "      <td>12/31/2014</td>\n",
              "      <td>Date of death</td>\n",
              "      <td>26.0</td>\n",
              "      <td>Female</td>\n",
              "      <td>White</td>\n",
              "      <td>NaN</td>\n",
              "      <td>BALTIC</td>\n",
              "      <td>NaN</td>\n",
              "      <td>NaN</td>\n",
              "      <td>NaN</td>\n",
              "      <td>...</td>\n",
              "      <td>NaN</td>\n",
              "      <td>NaN</td>\n",
              "      <td>NaN</td>\n",
              "      <td>NaN</td>\n",
              "      <td>NaN</td>\n",
              "      <td>NaN</td>\n",
              "      <td>NaN</td>\n",
              "      <td>BALTIC, CT\\n(41.617221, -72.085031)</td>\n",
              "      <td>CT\\n(41.575155, -72.738288)</td>\n",
              "      <td>Baltic, CT\\n(41.617221, -72.085031)</td>\n",
              "    </tr>\n",
              "    <tr>\n",
              "      <th>4</th>\n",
              "      <td>01/16/2016</td>\n",
              "      <td>Date of death</td>\n",
              "      <td>41.0</td>\n",
              "      <td>Male</td>\n",
              "      <td>White</td>\n",
              "      <td>NaN</td>\n",
              "      <td>SHELTON</td>\n",
              "      <td>FAIRFIELD</td>\n",
              "      <td>CT</td>\n",
              "      <td>SHELTON</td>\n",
              "      <td>...</td>\n",
              "      <td>NaN</td>\n",
              "      <td>NaN</td>\n",
              "      <td>NaN</td>\n",
              "      <td>NaN</td>\n",
              "      <td>NaN</td>\n",
              "      <td>Y</td>\n",
              "      <td>NaN</td>\n",
              "      <td>SHELTON, CT\\n(41.316843, -73.092968)</td>\n",
              "      <td>SHELTON, CT\\n(41.316843, -73.092968)</td>\n",
              "      <td>Bridgeport, CT\\n(41.179195, -73.189476)</td>\n",
              "    </tr>\n",
              "  </tbody>\n",
              "</table>\n",
              "<p>5 rows × 48 columns</p>\n",
              "</div>\n",
              "      <button class=\"colab-df-convert\" onclick=\"convertToInteractive('df-668c9887-63ce-4795-a795-c45b98f7e467')\"\n",
              "              title=\"Convert this dataframe to an interactive table.\"\n",
              "              style=\"display:none;\">\n",
              "        \n",
              "  <svg xmlns=\"http://www.w3.org/2000/svg\" height=\"24px\"viewBox=\"0 0 24 24\"\n",
              "       width=\"24px\">\n",
              "    <path d=\"M0 0h24v24H0V0z\" fill=\"none\"/>\n",
              "    <path d=\"M18.56 5.44l.94 2.06.94-2.06 2.06-.94-2.06-.94-.94-2.06-.94 2.06-2.06.94zm-11 1L8.5 8.5l.94-2.06 2.06-.94-2.06-.94L8.5 2.5l-.94 2.06-2.06.94zm10 10l.94 2.06.94-2.06 2.06-.94-2.06-.94-.94-2.06-.94 2.06-2.06.94z\"/><path d=\"M17.41 7.96l-1.37-1.37c-.4-.4-.92-.59-1.43-.59-.52 0-1.04.2-1.43.59L10.3 9.45l-7.72 7.72c-.78.78-.78 2.05 0 2.83L4 21.41c.39.39.9.59 1.41.59.51 0 1.02-.2 1.41-.59l7.78-7.78 2.81-2.81c.8-.78.8-2.07 0-2.86zM5.41 20L4 18.59l7.72-7.72 1.47 1.35L5.41 20z\"/>\n",
              "  </svg>\n",
              "      </button>\n",
              "      \n",
              "  <style>\n",
              "    .colab-df-container {\n",
              "      display:flex;\n",
              "      flex-wrap:wrap;\n",
              "      gap: 12px;\n",
              "    }\n",
              "\n",
              "    .colab-df-convert {\n",
              "      background-color: #E8F0FE;\n",
              "      border: none;\n",
              "      border-radius: 50%;\n",
              "      cursor: pointer;\n",
              "      display: none;\n",
              "      fill: #1967D2;\n",
              "      height: 32px;\n",
              "      padding: 0 0 0 0;\n",
              "      width: 32px;\n",
              "    }\n",
              "\n",
              "    .colab-df-convert:hover {\n",
              "      background-color: #E2EBFA;\n",
              "      box-shadow: 0px 1px 2px rgba(60, 64, 67, 0.3), 0px 1px 3px 1px rgba(60, 64, 67, 0.15);\n",
              "      fill: #174EA6;\n",
              "    }\n",
              "\n",
              "    [theme=dark] .colab-df-convert {\n",
              "      background-color: #3B4455;\n",
              "      fill: #D2E3FC;\n",
              "    }\n",
              "\n",
              "    [theme=dark] .colab-df-convert:hover {\n",
              "      background-color: #434B5C;\n",
              "      box-shadow: 0px 1px 3px 1px rgba(0, 0, 0, 0.15);\n",
              "      filter: drop-shadow(0px 1px 2px rgba(0, 0, 0, 0.3));\n",
              "      fill: #FFFFFF;\n",
              "    }\n",
              "  </style>\n",
              "\n",
              "      <script>\n",
              "        const buttonEl =\n",
              "          document.querySelector('#df-668c9887-63ce-4795-a795-c45b98f7e467 button.colab-df-convert');\n",
              "        buttonEl.style.display =\n",
              "          google.colab.kernel.accessAllowed ? 'block' : 'none';\n",
              "\n",
              "        async function convertToInteractive(key) {\n",
              "          const element = document.querySelector('#df-668c9887-63ce-4795-a795-c45b98f7e467');\n",
              "          const dataTable =\n",
              "            await google.colab.kernel.invokeFunction('convertToInteractive',\n",
              "                                                     [key], {});\n",
              "          if (!dataTable) return;\n",
              "\n",
              "          const docLinkHtml = 'Like what you see? Visit the ' +\n",
              "            '<a target=\"_blank\" href=https://colab.research.google.com/notebooks/data_table.ipynb>data table notebook</a>'\n",
              "            + ' to learn more about interactive tables.';\n",
              "          element.innerHTML = '';\n",
              "          dataTable['output_type'] = 'display_data';\n",
              "          await google.colab.output.renderOutput(dataTable, element);\n",
              "          const docLink = document.createElement('div');\n",
              "          docLink.innerHTML = docLinkHtml;\n",
              "          element.appendChild(docLink);\n",
              "        }\n",
              "      </script>\n",
              "    </div>\n",
              "  </div>\n",
              "  "
            ]
          },
          "metadata": {},
          "execution_count": 6
        }
      ]
    },
    {
      "cell_type": "code",
      "source": [
        "df.shape\n"
      ],
      "metadata": {
        "colab": {
          "base_uri": "https://localhost:8080/"
        },
        "id": "3kTfkrG7pF-7",
        "outputId": "79824296-d7c3-4046-a28e-55973c933a3a"
      },
      "execution_count": 8,
      "outputs": [
        {
          "output_type": "execute_result",
          "data": {
            "text/plain": [
              "(9202, 48)"
            ]
          },
          "metadata": {},
          "execution_count": 8
        }
      ]
    },
    {
      "cell_type": "code",
      "source": [
        "df.describe"
      ],
      "metadata": {
        "colab": {
          "base_uri": "https://localhost:8080/"
        },
        "id": "YdFWlbLXpQFL",
        "outputId": "51542e91-45d1-47d1-ad22-2258cca57f12"
      },
      "execution_count": 9,
      "outputs": [
        {
          "output_type": "execute_result",
          "data": {
            "text/plain": [
              "<bound method NDFrame.describe of             Date      Date Type   Age     Sex                       Race  \\\n",
              "0     05/29/2012  Date of death  37.0    Male                      Black   \n",
              "1     06/27/2012  Date of death  37.0    Male                      White   \n",
              "2     03/24/2014  Date of death  28.0    Male                      White   \n",
              "3     12/31/2014  Date of death  26.0  Female                      White   \n",
              "4     01/16/2016  Date of death  41.0    Male                      White   \n",
              "...          ...            ...   ...     ...                        ...   \n",
              "9197  10/19/2021  Date of death  56.0    Male  Black or African American   \n",
              "9198  05/04/2021  Date of death  48.0    Male  Black or African American   \n",
              "9199  05/15/2021  Date of death  59.0    Male                      White   \n",
              "9200  05/28/2021  Date of death  68.0    Male  Black or African American   \n",
              "9201  12/24/2021  Date of death  29.0    Male                      White   \n",
              "\n",
              "                        Ethnicity Residence City Residence County  \\\n",
              "0                             NaN       STAMFORD        FAIRFIELD   \n",
              "1                             NaN        NORWICH       NEW LONDON   \n",
              "2                             NaN         HEBRON              NaN   \n",
              "3                             NaN         BALTIC              NaN   \n",
              "4                             NaN        SHELTON        FAIRFIELD   \n",
              "...                           ...            ...              ...   \n",
              "9197                          NaN       STAMFORD        FAIRFIELD   \n",
              "9198                          NaN     WEST HAVEN        NEW HAVEN   \n",
              "9199                          NaN   WETHERSFIELD         HARTFORD   \n",
              "9200                          NaN       HARTFORD         HARTFORD   \n",
              "9201  Not Spanish/Hispanic/Latino        SEYMOUR        NEW HAVEN   \n",
              "\n",
              "     Residence State   Injury City  ... Xylazine Gabapentin Opiate NOS  \\\n",
              "0                NaN      STAMFORD  ...      NaN        NaN        NaN   \n",
              "1                NaN       NORWICH  ...      NaN        NaN        NaN   \n",
              "2                NaN        HEBRON  ...      NaN        NaN        NaN   \n",
              "3                NaN           NaN  ...      NaN        NaN        NaN   \n",
              "4                 CT       SHELTON  ...      NaN        NaN        NaN   \n",
              "...              ...           ...  ...      ...        ...        ...   \n",
              "9197              CT      STAMFORD  ...      NaN        NaN        NaN   \n",
              "9198              CT    WEST HAVEN  ...      NaN        NaN        NaN   \n",
              "9199              CT  WETHERSFIELD  ...      NaN          Y        NaN   \n",
              "9200              CT      HARTFORD  ...      NaN        NaN        NaN   \n",
              "9201              CT       SEYMOUR  ...        Y        NaN        NaN   \n",
              "\n",
              "     Heroin/Morph/Codeine Other Opioid Any Opioid Other  \\\n",
              "0                     NaN          NaN        NaN   NaN   \n",
              "1                     NaN          NaN        NaN   NaN   \n",
              "2                     NaN          NaN        NaN   NaN   \n",
              "3                     NaN          NaN        NaN   NaN   \n",
              "4                     NaN          NaN          Y   NaN   \n",
              "...                   ...          ...        ...   ...   \n",
              "9197                  NaN          NaN          Y   PCP   \n",
              "9198                  NaN          NaN        NaN   NaN   \n",
              "9199                  NaN          NaN        NaN   NaN   \n",
              "9200                  NaN          NaN        NaN   NaN   \n",
              "9201                  NaN          NaN          Y   NaN   \n",
              "\n",
              "                               ResidenceCityGeo  \\\n",
              "0         STAMFORD, CT\\n(41.051924, -73.539475)   \n",
              "1          NORWICH, CT\\n(41.524304, -72.075821)   \n",
              "2           HEBRON, CT\\n(41.658069, -72.366324)   \n",
              "3           BALTIC, CT\\n(41.617221, -72.085031)   \n",
              "4          SHELTON, CT\\n(41.316843, -73.092968)   \n",
              "...                                         ...   \n",
              "9197      STAMFORD, CT\\n(41.051924, -73.539475)   \n",
              "9198    WEST HAVEN, CT\\n(41.272336, -72.949817)   \n",
              "9199  WETHERSFIELD, CT\\n(41.712487, -72.663607)   \n",
              "9200      HARTFORD, CT\\n(41.765775, -72.673356)   \n",
              "9201       SEYMOUR, CT\\n(41.395594, -73.073581)   \n",
              "\n",
              "                                  InjuryCityGeo  \\\n",
              "0         STAMFORD, CT\\n(41.051924, -73.539475)   \n",
              "1          NORWICH, CT\\n(41.524304, -72.075821)   \n",
              "2           HEBRON, CT\\n(41.658069, -72.366324)   \n",
              "3                   CT\\n(41.575155, -72.738288)   \n",
              "4          SHELTON, CT\\n(41.316843, -73.092968)   \n",
              "...                                         ...   \n",
              "9197      STAMFORD, CT\\n(41.051924, -73.539475)   \n",
              "9198    WEST HAVEN, CT\\n(41.272336, -72.949817)   \n",
              "9199  WETHERSFIELD, CT\\n(41.712487, -72.663607)   \n",
              "9200      HARTFORD, CT\\n(41.765775, -72.673356)   \n",
              "9201       SEYMOUR, CT\\n(41.395594, -73.073581)   \n",
              "\n",
              "                                  DeathCityGeo  \n",
              "0                  CT\\n(41.575155, -72.738288)  \n",
              "1         Norwich, CT\\n(41.524304, -72.075821)  \n",
              "2     Marlborough, CT\\n(41.632043, -72.461309)  \n",
              "3          Baltic, CT\\n(41.617221, -72.085031)  \n",
              "4      Bridgeport, CT\\n(41.179195, -73.189476)  \n",
              "...                                        ...  \n",
              "9197     Stamford, CT\\n(41.051924, -73.539475)  \n",
              "9198    New Haven, CT\\n(41.308252, -72.924161)  \n",
              "9199     Hartford, CT\\n(41.765775, -72.673356)  \n",
              "9200     Hartford, CT\\n(41.765775, -72.673356)  \n",
              "9201      Seymour, CT\\n(41.395594, -73.073581)  \n",
              "\n",
              "[9202 rows x 48 columns]>"
            ]
          },
          "metadata": {},
          "execution_count": 9
        }
      ]
    },
    {
      "cell_type": "code",
      "source": [
        "df.isnull().sum()"
      ],
      "metadata": {
        "colab": {
          "base_uri": "https://localhost:8080/"
        },
        "id": "sNC02FDQqPBJ",
        "outputId": "88b158ae-0987-4b4a-9e3d-ae8abd59d7f1"
      },
      "execution_count": 12,
      "outputs": [
        {
          "output_type": "execute_result",
          "data": {
            "text/plain": [
              "Date                                0\n",
              "Date Type                           0\n",
              "Age                                 2\n",
              "Sex                                 8\n",
              "Race                               24\n",
              "Ethnicity                        7915\n",
              "Residence City                    389\n",
              "Residence County                 1042\n",
              "Residence State                  1776\n",
              "Injury City                       178\n",
              "Injury County                    3288\n",
              "Injury State                     2912\n",
              "Injury Place                      102\n",
              "Description of Injury             791\n",
              "Death City                          5\n",
              "Death County                     1112\n",
              "Death State                      2329\n",
              "Location                           22\n",
              "Location if Other                8363\n",
              "Cause of Death                      0\n",
              "Manner of Death                     9\n",
              "Other Significant Conditions     8387\n",
              "Heroin                           5855\n",
              "Heroin death certificate (DC)    8462\n",
              "Cocaine                          6031\n",
              "Fentanyl                         3530\n",
              "Fentanyl Analogue                8474\n",
              "Oxycodone                        8325\n",
              "Oxymorphone                      9054\n",
              "Ethanol                          6732\n",
              "Hydrocodone                      9047\n",
              "Benzodiazepine                   6964\n",
              "Methadone                        8388\n",
              "Meth/Amphetamine                 9075\n",
              "Amphet                           8917\n",
              "Tramad                           8944\n",
              "Hydromorphone                    9146\n",
              "Morphine (Not Heroin)            9153\n",
              "Xylazine                         8761\n",
              "Gabapentin                       9020\n",
              "Opiate NOS                       9083\n",
              "Heroin/Morph/Codeine             7250\n",
              "Other Opioid                     9112\n",
              "Any Opioid                       2921\n",
              "Other                            8548\n",
              "ResidenceCityGeo                  165\n",
              "InjuryCityGeo                     211\n",
              "DeathCityGeo                        1\n",
              "dtype: int64"
            ]
          },
          "metadata": {},
          "execution_count": 12
        }
      ]
    },
    {
      "cell_type": "code",
      "source": [
        "df.nsmallest(3,'Age')"
      ],
      "metadata": {
        "colab": {
          "base_uri": "https://localhost:8080/",
          "height": 376
        },
        "id": "2Q-BBJWBqv0N",
        "outputId": "da953aac-e4ff-49dd-adbd-2612f3b425dd"
      },
      "execution_count": 13,
      "outputs": [
        {
          "output_type": "execute_result",
          "data": {
            "text/plain": [
              "            Date      Date Type   Age     Sex   Race Ethnicity Residence City  \\\n",
              "31    02/16/2014  Date of death  14.0  Female  White       NaN    BROAD BROOK   \n",
              "5111  08/08/2021  Date of death  14.0  Female  White       NaN        BRISTOL   \n",
              "6335  08/26/2018  Date of death  15.0    Male  White       NaN        BRISTOL   \n",
              "\n",
              "     Residence County Residence State  Injury City  ... Xylazine Gabapentin  \\\n",
              "31                NaN             NaN  BROAD BROOK  ...      NaN        NaN   \n",
              "5111         HARTFORD              CT      BRISTOL  ...      NaN        NaN   \n",
              "6335         HARTFORD              CT      BRISTOL  ...      NaN        NaN   \n",
              "\n",
              "     Opiate NOS Heroin/Morph/Codeine Other Opioid Any Opioid Other  \\\n",
              "31          NaN                  NaN          NaN        NaN   NaN   \n",
              "5111        NaN                  NaN          NaN          Y   NaN   \n",
              "6335        NaN                  NaN          NaN          Y   NaN   \n",
              "\n",
              "                              ResidenceCityGeo  \\\n",
              "31    BROAD BROOK, CT\\n(41.912428, -72.545409)   \n",
              "5111      BRISTOL, CT\\n(41.673037, -72.945791)   \n",
              "6335      BRISTOL, CT\\n(41.673037, -72.945791)   \n",
              "\n",
              "                                 InjuryCityGeo  \\\n",
              "31    BROAD BROOK, CT\\n(41.912428, -72.545409)   \n",
              "5111      BRISTOL, CT\\n(41.673037, -72.945791)   \n",
              "6335      BRISTOL, CT\\n(41.673037, -72.945791)   \n",
              "\n",
              "                               DeathCityGeo  \n",
              "31    Hartford, CT\\n(41.765775, -72.673356)  \n",
              "5111   Bristol, CT\\n(41.673037, -72.945791)  \n",
              "6335   Bristol, CT\\n(41.673037, -72.945791)  \n",
              "\n",
              "[3 rows x 48 columns]"
            ],
            "text/html": [
              "\n",
              "  <div id=\"df-ea107f73-a520-4e41-bc25-a3f5f0b160d5\">\n",
              "    <div class=\"colab-df-container\">\n",
              "      <div>\n",
              "<style scoped>\n",
              "    .dataframe tbody tr th:only-of-type {\n",
              "        vertical-align: middle;\n",
              "    }\n",
              "\n",
              "    .dataframe tbody tr th {\n",
              "        vertical-align: top;\n",
              "    }\n",
              "\n",
              "    .dataframe thead th {\n",
              "        text-align: right;\n",
              "    }\n",
              "</style>\n",
              "<table border=\"1\" class=\"dataframe\">\n",
              "  <thead>\n",
              "    <tr style=\"text-align: right;\">\n",
              "      <th></th>\n",
              "      <th>Date</th>\n",
              "      <th>Date Type</th>\n",
              "      <th>Age</th>\n",
              "      <th>Sex</th>\n",
              "      <th>Race</th>\n",
              "      <th>Ethnicity</th>\n",
              "      <th>Residence City</th>\n",
              "      <th>Residence County</th>\n",
              "      <th>Residence State</th>\n",
              "      <th>Injury City</th>\n",
              "      <th>...</th>\n",
              "      <th>Xylazine</th>\n",
              "      <th>Gabapentin</th>\n",
              "      <th>Opiate NOS</th>\n",
              "      <th>Heroin/Morph/Codeine</th>\n",
              "      <th>Other Opioid</th>\n",
              "      <th>Any Opioid</th>\n",
              "      <th>Other</th>\n",
              "      <th>ResidenceCityGeo</th>\n",
              "      <th>InjuryCityGeo</th>\n",
              "      <th>DeathCityGeo</th>\n",
              "    </tr>\n",
              "  </thead>\n",
              "  <tbody>\n",
              "    <tr>\n",
              "      <th>31</th>\n",
              "      <td>02/16/2014</td>\n",
              "      <td>Date of death</td>\n",
              "      <td>14.0</td>\n",
              "      <td>Female</td>\n",
              "      <td>White</td>\n",
              "      <td>NaN</td>\n",
              "      <td>BROAD BROOK</td>\n",
              "      <td>NaN</td>\n",
              "      <td>NaN</td>\n",
              "      <td>BROAD BROOK</td>\n",
              "      <td>...</td>\n",
              "      <td>NaN</td>\n",
              "      <td>NaN</td>\n",
              "      <td>NaN</td>\n",
              "      <td>NaN</td>\n",
              "      <td>NaN</td>\n",
              "      <td>NaN</td>\n",
              "      <td>NaN</td>\n",
              "      <td>BROAD BROOK, CT\\n(41.912428, -72.545409)</td>\n",
              "      <td>BROAD BROOK, CT\\n(41.912428, -72.545409)</td>\n",
              "      <td>Hartford, CT\\n(41.765775, -72.673356)</td>\n",
              "    </tr>\n",
              "    <tr>\n",
              "      <th>5111</th>\n",
              "      <td>08/08/2021</td>\n",
              "      <td>Date of death</td>\n",
              "      <td>14.0</td>\n",
              "      <td>Female</td>\n",
              "      <td>White</td>\n",
              "      <td>NaN</td>\n",
              "      <td>BRISTOL</td>\n",
              "      <td>HARTFORD</td>\n",
              "      <td>CT</td>\n",
              "      <td>BRISTOL</td>\n",
              "      <td>...</td>\n",
              "      <td>NaN</td>\n",
              "      <td>NaN</td>\n",
              "      <td>NaN</td>\n",
              "      <td>NaN</td>\n",
              "      <td>NaN</td>\n",
              "      <td>Y</td>\n",
              "      <td>NaN</td>\n",
              "      <td>BRISTOL, CT\\n(41.673037, -72.945791)</td>\n",
              "      <td>BRISTOL, CT\\n(41.673037, -72.945791)</td>\n",
              "      <td>Bristol, CT\\n(41.673037, -72.945791)</td>\n",
              "    </tr>\n",
              "    <tr>\n",
              "      <th>6335</th>\n",
              "      <td>08/26/2018</td>\n",
              "      <td>Date of death</td>\n",
              "      <td>15.0</td>\n",
              "      <td>Male</td>\n",
              "      <td>White</td>\n",
              "      <td>NaN</td>\n",
              "      <td>BRISTOL</td>\n",
              "      <td>HARTFORD</td>\n",
              "      <td>CT</td>\n",
              "      <td>BRISTOL</td>\n",
              "      <td>...</td>\n",
              "      <td>NaN</td>\n",
              "      <td>NaN</td>\n",
              "      <td>NaN</td>\n",
              "      <td>NaN</td>\n",
              "      <td>NaN</td>\n",
              "      <td>Y</td>\n",
              "      <td>NaN</td>\n",
              "      <td>BRISTOL, CT\\n(41.673037, -72.945791)</td>\n",
              "      <td>BRISTOL, CT\\n(41.673037, -72.945791)</td>\n",
              "      <td>Bristol, CT\\n(41.673037, -72.945791)</td>\n",
              "    </tr>\n",
              "  </tbody>\n",
              "</table>\n",
              "<p>3 rows × 48 columns</p>\n",
              "</div>\n",
              "      <button class=\"colab-df-convert\" onclick=\"convertToInteractive('df-ea107f73-a520-4e41-bc25-a3f5f0b160d5')\"\n",
              "              title=\"Convert this dataframe to an interactive table.\"\n",
              "              style=\"display:none;\">\n",
              "        \n",
              "  <svg xmlns=\"http://www.w3.org/2000/svg\" height=\"24px\"viewBox=\"0 0 24 24\"\n",
              "       width=\"24px\">\n",
              "    <path d=\"M0 0h24v24H0V0z\" fill=\"none\"/>\n",
              "    <path d=\"M18.56 5.44l.94 2.06.94-2.06 2.06-.94-2.06-.94-.94-2.06-.94 2.06-2.06.94zm-11 1L8.5 8.5l.94-2.06 2.06-.94-2.06-.94L8.5 2.5l-.94 2.06-2.06.94zm10 10l.94 2.06.94-2.06 2.06-.94-2.06-.94-.94-2.06-.94 2.06-2.06.94z\"/><path d=\"M17.41 7.96l-1.37-1.37c-.4-.4-.92-.59-1.43-.59-.52 0-1.04.2-1.43.59L10.3 9.45l-7.72 7.72c-.78.78-.78 2.05 0 2.83L4 21.41c.39.39.9.59 1.41.59.51 0 1.02-.2 1.41-.59l7.78-7.78 2.81-2.81c.8-.78.8-2.07 0-2.86zM5.41 20L4 18.59l7.72-7.72 1.47 1.35L5.41 20z\"/>\n",
              "  </svg>\n",
              "      </button>\n",
              "      \n",
              "  <style>\n",
              "    .colab-df-container {\n",
              "      display:flex;\n",
              "      flex-wrap:wrap;\n",
              "      gap: 12px;\n",
              "    }\n",
              "\n",
              "    .colab-df-convert {\n",
              "      background-color: #E8F0FE;\n",
              "      border: none;\n",
              "      border-radius: 50%;\n",
              "      cursor: pointer;\n",
              "      display: none;\n",
              "      fill: #1967D2;\n",
              "      height: 32px;\n",
              "      padding: 0 0 0 0;\n",
              "      width: 32px;\n",
              "    }\n",
              "\n",
              "    .colab-df-convert:hover {\n",
              "      background-color: #E2EBFA;\n",
              "      box-shadow: 0px 1px 2px rgba(60, 64, 67, 0.3), 0px 1px 3px 1px rgba(60, 64, 67, 0.15);\n",
              "      fill: #174EA6;\n",
              "    }\n",
              "\n",
              "    [theme=dark] .colab-df-convert {\n",
              "      background-color: #3B4455;\n",
              "      fill: #D2E3FC;\n",
              "    }\n",
              "\n",
              "    [theme=dark] .colab-df-convert:hover {\n",
              "      background-color: #434B5C;\n",
              "      box-shadow: 0px 1px 3px 1px rgba(0, 0, 0, 0.15);\n",
              "      filter: drop-shadow(0px 1px 2px rgba(0, 0, 0, 0.3));\n",
              "      fill: #FFFFFF;\n",
              "    }\n",
              "  </style>\n",
              "\n",
              "      <script>\n",
              "        const buttonEl =\n",
              "          document.querySelector('#df-ea107f73-a520-4e41-bc25-a3f5f0b160d5 button.colab-df-convert');\n",
              "        buttonEl.style.display =\n",
              "          google.colab.kernel.accessAllowed ? 'block' : 'none';\n",
              "\n",
              "        async function convertToInteractive(key) {\n",
              "          const element = document.querySelector('#df-ea107f73-a520-4e41-bc25-a3f5f0b160d5');\n",
              "          const dataTable =\n",
              "            await google.colab.kernel.invokeFunction('convertToInteractive',\n",
              "                                                     [key], {});\n",
              "          if (!dataTable) return;\n",
              "\n",
              "          const docLinkHtml = 'Like what you see? Visit the ' +\n",
              "            '<a target=\"_blank\" href=https://colab.research.google.com/notebooks/data_table.ipynb>data table notebook</a>'\n",
              "            + ' to learn more about interactive tables.';\n",
              "          element.innerHTML = '';\n",
              "          dataTable['output_type'] = 'display_data';\n",
              "          await google.colab.output.renderOutput(dataTable, element);\n",
              "          const docLink = document.createElement('div');\n",
              "          docLink.innerHTML = docLinkHtml;\n",
              "          element.appendChild(docLink);\n",
              "        }\n",
              "      </script>\n",
              "    </div>\n",
              "  </div>\n",
              "  "
            ]
          },
          "metadata": {},
          "execution_count": 13
        }
      ]
    },
    {
      "cell_type": "code",
      "source": [
        "df.nlargest(3, 'Age')"
      ],
      "metadata": {
        "colab": {
          "base_uri": "https://localhost:8080/",
          "height": 358
        },
        "id": "3keWxHGKrVT-",
        "outputId": "ba4d4e5d-7332-4f68-9cd1-3db4d5946934"
      },
      "execution_count": 14,
      "outputs": [
        {
          "output_type": "execute_result",
          "data": {
            "text/plain": [
              "            Date      Date Type   Age   Sex   Race Ethnicity Residence City  \\\n",
              "8286  07/14/2013  Date of death  87.0  Male  White  Hispanic      NEW HAVEN   \n",
              "3495  05/04/2018  Date of death  84.0  Male  White  Hispanic     BRIDGEPORT   \n",
              "5811  09/03/2020  Date of death  81.0  Male  Black       NaN      NEW HAVEN   \n",
              "\n",
              "     Residence County Residence State Injury City  ... Xylazine Gabapentin  \\\n",
              "8286        NEW HAVEN             NaN   NEW HAVEN  ...      NaN        NaN   \n",
              "3495        FAIRFIELD              CT  BRIDGEPORT  ...      NaN        NaN   \n",
              "5811        NEW HAVEN              CT   NEW HAVEN  ...      NaN        NaN   \n",
              "\n",
              "     Opiate NOS Heroin/Morph/Codeine Other Opioid Any Opioid Other  \\\n",
              "8286        NaN                  NaN          NaN        NaN   NaN   \n",
              "3495        NaN                    Y          NaN          Y   NaN   \n",
              "5811        NaN                  NaN          NaN          Y   NaN   \n",
              "\n",
              "                             ResidenceCityGeo  \\\n",
              "8286   NEW HAVEN, CT\\n(41.308252, -72.924161)   \n",
              "3495  BRIDGEPORT, CT\\n(41.179195, -73.189476)   \n",
              "5811   NEW HAVEN, CT\\n(41.308252, -72.924161)   \n",
              "\n",
              "                                InjuryCityGeo  \\\n",
              "8286   NEW HAVEN, CT\\n(41.308252, -72.924161)   \n",
              "3495  BRIDGEPORT, CT\\n(41.179195, -73.189476)   \n",
              "5811   NEW HAVEN, CT\\n(41.308252, -72.924161)   \n",
              "\n",
              "                                 DeathCityGeo  \n",
              "8286   New Haven, CT\\n(41.308252, -72.924161)  \n",
              "3495  Bridgeport, CT\\n(41.179195, -73.189476)  \n",
              "5811   New Haven, CT\\n(41.308252, -72.924161)  \n",
              "\n",
              "[3 rows x 48 columns]"
            ],
            "text/html": [
              "\n",
              "  <div id=\"df-8c4a8c61-028b-4f47-a683-4fb362a427e9\">\n",
              "    <div class=\"colab-df-container\">\n",
              "      <div>\n",
              "<style scoped>\n",
              "    .dataframe tbody tr th:only-of-type {\n",
              "        vertical-align: middle;\n",
              "    }\n",
              "\n",
              "    .dataframe tbody tr th {\n",
              "        vertical-align: top;\n",
              "    }\n",
              "\n",
              "    .dataframe thead th {\n",
              "        text-align: right;\n",
              "    }\n",
              "</style>\n",
              "<table border=\"1\" class=\"dataframe\">\n",
              "  <thead>\n",
              "    <tr style=\"text-align: right;\">\n",
              "      <th></th>\n",
              "      <th>Date</th>\n",
              "      <th>Date Type</th>\n",
              "      <th>Age</th>\n",
              "      <th>Sex</th>\n",
              "      <th>Race</th>\n",
              "      <th>Ethnicity</th>\n",
              "      <th>Residence City</th>\n",
              "      <th>Residence County</th>\n",
              "      <th>Residence State</th>\n",
              "      <th>Injury City</th>\n",
              "      <th>...</th>\n",
              "      <th>Xylazine</th>\n",
              "      <th>Gabapentin</th>\n",
              "      <th>Opiate NOS</th>\n",
              "      <th>Heroin/Morph/Codeine</th>\n",
              "      <th>Other Opioid</th>\n",
              "      <th>Any Opioid</th>\n",
              "      <th>Other</th>\n",
              "      <th>ResidenceCityGeo</th>\n",
              "      <th>InjuryCityGeo</th>\n",
              "      <th>DeathCityGeo</th>\n",
              "    </tr>\n",
              "  </thead>\n",
              "  <tbody>\n",
              "    <tr>\n",
              "      <th>8286</th>\n",
              "      <td>07/14/2013</td>\n",
              "      <td>Date of death</td>\n",
              "      <td>87.0</td>\n",
              "      <td>Male</td>\n",
              "      <td>White</td>\n",
              "      <td>Hispanic</td>\n",
              "      <td>NEW HAVEN</td>\n",
              "      <td>NEW HAVEN</td>\n",
              "      <td>NaN</td>\n",
              "      <td>NEW HAVEN</td>\n",
              "      <td>...</td>\n",
              "      <td>NaN</td>\n",
              "      <td>NaN</td>\n",
              "      <td>NaN</td>\n",
              "      <td>NaN</td>\n",
              "      <td>NaN</td>\n",
              "      <td>NaN</td>\n",
              "      <td>NaN</td>\n",
              "      <td>NEW HAVEN, CT\\n(41.308252, -72.924161)</td>\n",
              "      <td>NEW HAVEN, CT\\n(41.308252, -72.924161)</td>\n",
              "      <td>New Haven, CT\\n(41.308252, -72.924161)</td>\n",
              "    </tr>\n",
              "    <tr>\n",
              "      <th>3495</th>\n",
              "      <td>05/04/2018</td>\n",
              "      <td>Date of death</td>\n",
              "      <td>84.0</td>\n",
              "      <td>Male</td>\n",
              "      <td>White</td>\n",
              "      <td>Hispanic</td>\n",
              "      <td>BRIDGEPORT</td>\n",
              "      <td>FAIRFIELD</td>\n",
              "      <td>CT</td>\n",
              "      <td>BRIDGEPORT</td>\n",
              "      <td>...</td>\n",
              "      <td>NaN</td>\n",
              "      <td>NaN</td>\n",
              "      <td>NaN</td>\n",
              "      <td>Y</td>\n",
              "      <td>NaN</td>\n",
              "      <td>Y</td>\n",
              "      <td>NaN</td>\n",
              "      <td>BRIDGEPORT, CT\\n(41.179195, -73.189476)</td>\n",
              "      <td>BRIDGEPORT, CT\\n(41.179195, -73.189476)</td>\n",
              "      <td>Bridgeport, CT\\n(41.179195, -73.189476)</td>\n",
              "    </tr>\n",
              "    <tr>\n",
              "      <th>5811</th>\n",
              "      <td>09/03/2020</td>\n",
              "      <td>Date of death</td>\n",
              "      <td>81.0</td>\n",
              "      <td>Male</td>\n",
              "      <td>Black</td>\n",
              "      <td>NaN</td>\n",
              "      <td>NEW HAVEN</td>\n",
              "      <td>NEW HAVEN</td>\n",
              "      <td>CT</td>\n",
              "      <td>NEW HAVEN</td>\n",
              "      <td>...</td>\n",
              "      <td>NaN</td>\n",
              "      <td>NaN</td>\n",
              "      <td>NaN</td>\n",
              "      <td>NaN</td>\n",
              "      <td>NaN</td>\n",
              "      <td>Y</td>\n",
              "      <td>NaN</td>\n",
              "      <td>NEW HAVEN, CT\\n(41.308252, -72.924161)</td>\n",
              "      <td>NEW HAVEN, CT\\n(41.308252, -72.924161)</td>\n",
              "      <td>New Haven, CT\\n(41.308252, -72.924161)</td>\n",
              "    </tr>\n",
              "  </tbody>\n",
              "</table>\n",
              "<p>3 rows × 48 columns</p>\n",
              "</div>\n",
              "      <button class=\"colab-df-convert\" onclick=\"convertToInteractive('df-8c4a8c61-028b-4f47-a683-4fb362a427e9')\"\n",
              "              title=\"Convert this dataframe to an interactive table.\"\n",
              "              style=\"display:none;\">\n",
              "        \n",
              "  <svg xmlns=\"http://www.w3.org/2000/svg\" height=\"24px\"viewBox=\"0 0 24 24\"\n",
              "       width=\"24px\">\n",
              "    <path d=\"M0 0h24v24H0V0z\" fill=\"none\"/>\n",
              "    <path d=\"M18.56 5.44l.94 2.06.94-2.06 2.06-.94-2.06-.94-.94-2.06-.94 2.06-2.06.94zm-11 1L8.5 8.5l.94-2.06 2.06-.94-2.06-.94L8.5 2.5l-.94 2.06-2.06.94zm10 10l.94 2.06.94-2.06 2.06-.94-2.06-.94-.94-2.06-.94 2.06-2.06.94z\"/><path d=\"M17.41 7.96l-1.37-1.37c-.4-.4-.92-.59-1.43-.59-.52 0-1.04.2-1.43.59L10.3 9.45l-7.72 7.72c-.78.78-.78 2.05 0 2.83L4 21.41c.39.39.9.59 1.41.59.51 0 1.02-.2 1.41-.59l7.78-7.78 2.81-2.81c.8-.78.8-2.07 0-2.86zM5.41 20L4 18.59l7.72-7.72 1.47 1.35L5.41 20z\"/>\n",
              "  </svg>\n",
              "      </button>\n",
              "      \n",
              "  <style>\n",
              "    .colab-df-container {\n",
              "      display:flex;\n",
              "      flex-wrap:wrap;\n",
              "      gap: 12px;\n",
              "    }\n",
              "\n",
              "    .colab-df-convert {\n",
              "      background-color: #E8F0FE;\n",
              "      border: none;\n",
              "      border-radius: 50%;\n",
              "      cursor: pointer;\n",
              "      display: none;\n",
              "      fill: #1967D2;\n",
              "      height: 32px;\n",
              "      padding: 0 0 0 0;\n",
              "      width: 32px;\n",
              "    }\n",
              "\n",
              "    .colab-df-convert:hover {\n",
              "      background-color: #E2EBFA;\n",
              "      box-shadow: 0px 1px 2px rgba(60, 64, 67, 0.3), 0px 1px 3px 1px rgba(60, 64, 67, 0.15);\n",
              "      fill: #174EA6;\n",
              "    }\n",
              "\n",
              "    [theme=dark] .colab-df-convert {\n",
              "      background-color: #3B4455;\n",
              "      fill: #D2E3FC;\n",
              "    }\n",
              "\n",
              "    [theme=dark] .colab-df-convert:hover {\n",
              "      background-color: #434B5C;\n",
              "      box-shadow: 0px 1px 3px 1px rgba(0, 0, 0, 0.15);\n",
              "      filter: drop-shadow(0px 1px 2px rgba(0, 0, 0, 0.3));\n",
              "      fill: #FFFFFF;\n",
              "    }\n",
              "  </style>\n",
              "\n",
              "      <script>\n",
              "        const buttonEl =\n",
              "          document.querySelector('#df-8c4a8c61-028b-4f47-a683-4fb362a427e9 button.colab-df-convert');\n",
              "        buttonEl.style.display =\n",
              "          google.colab.kernel.accessAllowed ? 'block' : 'none';\n",
              "\n",
              "        async function convertToInteractive(key) {\n",
              "          const element = document.querySelector('#df-8c4a8c61-028b-4f47-a683-4fb362a427e9');\n",
              "          const dataTable =\n",
              "            await google.colab.kernel.invokeFunction('convertToInteractive',\n",
              "                                                     [key], {});\n",
              "          if (!dataTable) return;\n",
              "\n",
              "          const docLinkHtml = 'Like what you see? Visit the ' +\n",
              "            '<a target=\"_blank\" href=https://colab.research.google.com/notebooks/data_table.ipynb>data table notebook</a>'\n",
              "            + ' to learn more about interactive tables.';\n",
              "          element.innerHTML = '';\n",
              "          dataTable['output_type'] = 'display_data';\n",
              "          await google.colab.output.renderOutput(dataTable, element);\n",
              "          const docLink = document.createElement('div');\n",
              "          docLink.innerHTML = docLinkHtml;\n",
              "          element.appendChild(docLink);\n",
              "        }\n",
              "      </script>\n",
              "    </div>\n",
              "  </div>\n",
              "  "
            ]
          },
          "metadata": {},
          "execution_count": 14
        }
      ]
    },
    {
      "cell_type": "code",
      "source": [
        "df['Age'].describe()\n",
        "\n"
      ],
      "metadata": {
        "colab": {
          "base_uri": "https://localhost:8080/"
        },
        "id": "rBT4Q70Srcol",
        "outputId": "6a4e07bd-1978-417d-f61d-84af906d2746"
      },
      "execution_count": 20,
      "outputs": [
        {
          "output_type": "execute_result",
          "data": {
            "text/plain": [
              "count    9200.000000\n",
              "mean       43.023370\n",
              "std        12.502644\n",
              "min        14.000000\n",
              "25%        33.000000\n",
              "50%        43.000000\n",
              "75%        53.000000\n",
              "max        87.000000\n",
              "Name: Age, dtype: float64"
            ]
          },
          "metadata": {},
          "execution_count": 20
        }
      ]
    },
    {
      "cell_type": "code",
      "source": [
        "plt.hist(df['Age']);"
      ],
      "metadata": {
        "colab": {
          "base_uri": "https://localhost:8080/",
          "height": 430
        },
        "id": "ZteMBcZiuewJ",
        "outputId": "3f3865a3-a7d3-4692-d552-165269b0aa9c"
      },
      "execution_count": 23,
      "outputs": [
        {
          "output_type": "display_data",
          "data": {
            "text/plain": [
              "<Figure size 640x480 with 1 Axes>"
            ],
            "image/png": "[encoded data removed]"
          },
          "metadata": {}
        }
      ]
    },
    {
      "cell_type": "code",
      "source": [
        "df.groupby(['Sex'])['Age'].mean()"
      ],
      "metadata": {
        "colab": {
          "base_uri": "https://localhost:8080/"
        },
        "id": "LZDrxBdzu63c",
        "outputId": "22dcd833-0098-4a3b-a46c-171dfbd16738"
      },
      "execution_count": 24,
      "outputs": [
        {
          "output_type": "execute_result",
          "data": {
            "text/plain": [
              "Sex\n",
              "Female    43.257601\n",
              "Male      42.941392\n",
              "Name: Age, dtype: float64"
            ]
          },
          "metadata": {},
          "execution_count": 24
        }
      ]
    },
    {
      "cell_type": "code",
      "source": [
        "sexo=df['Sex'].value_counts()\n",
        "sexo"
      ],
      "metadata": {
        "colab": {
          "base_uri": "https://localhost:8080/"
        },
        "id": "7g4hHWE_v8KZ",
        "outputId": "bd05b961-a661-4890-826d-75dc23146da2"
      },
      "execution_count": 52,
      "outputs": [
        {
          "output_type": "execute_result",
          "data": {
            "text/plain": [
              "Male      6826\n",
              "Female    2368\n",
              "Name: Sex, dtype: int64"
            ]
          },
          "metadata": {},
          "execution_count": 52
        }
      ]
    },
    {
      "cell_type": "code",
      "source": [
        "sexo.plot(kind='barh', color=['red', 'blue'])"
      ],
      "metadata": {
        "colab": {
          "base_uri": "https://localhost:8080/",
          "height": 447
        },
        "id": "89J-_6fSwEB7",
        "outputId": "f2ccb798-5242-4eb7-bb80-097e27752cb5"
      },
      "execution_count": 54,
      "outputs": [
        {
          "output_type": "execute_result",
          "data": {
            "text/plain": [
              "<Axes: >"
            ]
          },
          "metadata": {},
          "execution_count": 54
        },
        {
          "output_type": "display_data",
          "data": {
            "text/plain": [
              "<Figure size 640x480 with 1 Axes>"
            ],
            "image/png": "[encoded data removed]"
          },
          "metadata": {}
        }
      ]
    },
    {
      "cell_type": "code",
      "source": [
        "sexo.plot(kind='pie', autopct='%1.2f%%')"
      ],
      "metadata": {
        "colab": {
          "base_uri": "https://localhost:8080/",
          "height": 423
        },
        "id": "o8AKDzxdxt8p",
        "outputId": "7a672a53-e105-4c66-bd9d-82995a372437"
      },
      "execution_count": 55,
      "outputs": [
        {
          "output_type": "execute_result",
          "data": {
            "text/plain": [
              "<Axes: ylabel='Sex'>"
            ]
          },
          "metadata": {},
          "execution_count": 55
        },
        {
          "output_type": "display_data",
          "data": {
            "text/plain": [
              "<Figure size 640x480 with 1 Axes>"
            ],
            "image/png": "[encoded data removed]"
          },
          "metadata": {}
        }
      ]
    },
    {
      "cell_type": "code",
      "source": [
        "df.groupby('Sex')['Age'].value_counts().unstack(0).plot.kde()"
      ],
      "metadata": {
        "colab": {
          "base_uri": "https://localhost:8080/",
          "height": 447
        },
        "id": "FPlaBE-Hx4_t",
        "outputId": "07fab265-03d4-4af5-ff30-247ffaa41a14"
      },
      "execution_count": 58,
      "outputs": [
        {
          "output_type": "execute_result",
          "data": {
            "text/plain": [
              "<Axes: ylabel='Density'>"
            ]
          },
          "metadata": {},
          "execution_count": 58
        },
        {
          "output_type": "display_data",
          "data": {
            "text/plain": [
              "<Figure size 640x480 with 1 Axes>"
            ],
            "image/png": "[encoded data removed]"
          },
          "metadata": {}
        }
      ]
    },
    {
      "cell_type": "code",
      "source": [
        "etnia=df['Ethnicity'].value_counts()\n",
        "etnia"
      ],
      "metadata": {
        "colab": {
          "base_uri": "https://localhost:8080/"
        },
        "id": "gCtQ0bW0x7J2",
        "outputId": "84015640-e0bc-4701-dc17-fcbfeda1e68f"
      },
      "execution_count": 59,
      "outputs": [
        {
          "output_type": "execute_result",
          "data": {
            "text/plain": [
              "Hispanic                         972\n",
              "Other Spanish/Hispanic/Latino    254\n",
              "Not Spanish/Hispanic/Latino       56\n",
              "Puerto Rican                       4\n",
              "Unknown                            1\n",
              "Name: Ethnicity, dtype: int64"
            ]
          },
          "metadata": {},
          "execution_count": 59
        }
      ]
    },
    {
      "cell_type": "code",
      "source": [
        "etnia.plot(kind='barh', color=['red','blue','purple','green'])"
      ],
      "metadata": {
        "colab": {
          "base_uri": "https://localhost:8080/",
          "height": 447
        },
        "id": "fn5ATwO-ydmM",
        "outputId": "fd79d0c6-28ff-4641-b07e-87773491216b"
      },
      "execution_count": 63,
      "outputs": [
        {
          "output_type": "execute_result",
          "data": {
            "text/plain": [
              "<Axes: >"
            ]
          },
          "metadata": {},
          "execution_count": 63
        },
        {
          "output_type": "display_data",
          "data": {
            "text/plain": [
              "<Figure size 640x480 with 1 Axes>"
            ],
            "image/png": "[encoded data removed]"
          },
          "metadata": {}
        }
      ]
    },
    {
      "cell_type": "code",
      "source": [
        "moradia= df['Residence City'].value_counts()\n",
        "moradia"
      ],
      "metadata": {
        "colab": {
          "base_uri": "https://localhost:8080/"
        },
        "id": "Fo7kxOogyg79",
        "outputId": "186691f4-602b-4b3a-a2d7-37a9b4b80ae8"
      },
      "execution_count": 65,
      "outputs": [
        {
          "output_type": "execute_result",
          "data": {
            "text/plain": [
              "HARTFORD         596\n",
              "WATERBURY        541\n",
              "NEW HAVEN        493\n",
              "BRIDGEPORT       457\n",
              "NEW BRITAIN      320\n",
              "                ... \n",
              "STAATSBURG         1\n",
              "EAST BOSTON        1\n",
              "STATEN ISLAND      1\n",
              "WINTER HAVEN       1\n",
              "GREENVILLE         1\n",
              "Name: Residence City, Length: 485, dtype: int64"
            ]
          },
          "metadata": {},
          "execution_count": 65
        }
      ]
    }
  ]
}